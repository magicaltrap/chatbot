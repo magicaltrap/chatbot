{
  "nbformat": 4,
  "nbformat_minor": 0,
  "metadata": {
    "colab": {
      "name": "amazon-preprocessed.ipynb",
      "provenance": [],
      "collapsed_sections": [],
      "include_colab_link": true
    },
    "kernelspec": {
      "name": "python3",
      "display_name": "Python 3"
    }
  },
  "cells": [
    {
      "cell_type": "markdown",
      "metadata": {
        "id": "view-in-github",
        "colab_type": "text"
      },
      "source": [
        "<a href=\"https://colab.research.google.com/github/magicaltrap/chatbot/blob/master/amazon_preprocessed.ipynb\" target=\"_parent\"><img src=\"https://colab.research.google.com/assets/colab-badge.svg\" alt=\"Open In Colab\"/></a>"
      ]
    },
    {
      "cell_type": "code",
      "metadata": {
        "id": "ICP0UjKxwRFd",
        "colab_type": "code",
        "outputId": "37e8b201-988d-46d8-8d8c-e6ace55d6edd",
        "colab": {
          "base_uri": "https://localhost:8080/",
          "height": 35
        }
      },
      "source": [
        "from google.colab import drive\n",
        "drive.mount('/content/gdrive', force_remount=True)\n",
        "root_dir = \"/content/gdrive/My Drive/\"\n",
        "path_chatbot = \"/content/gdrive/My Drive/data/chatbot/\"\n",
        "path_chatbot_data = \"/content/gdrive/My Drive/data/chatbot/data/\""
      ],
      "execution_count": 2,
      "outputs": [
        {
          "output_type": "stream",
          "text": [
            "Mounted at /content/gdrive\n"
          ],
          "name": "stdout"
        }
      ]
    },
    {
      "cell_type": "code",
      "metadata": {
        "id": "Sf4g85J3NcPt",
        "colab_type": "code",
        "colab": {}
      },
      "source": [
        "import os\n",
        "import pandas as pd\n",
        "import gzip"
      ],
      "execution_count": 0,
      "outputs": []
    },
    {
      "cell_type": "code",
      "metadata": {
        "id": "j2EMAfBCw6gA",
        "colab_type": "code",
        "colab": {}
      },
      "source": [
        "corpus_folder = os.path.join(path_chatbot_data, 'amazon_electronics')\n",
        "corpus_path = os.path.join(corpus_folder, 'QA_Electronics.json.gz')"
      ],
      "execution_count": 0,
      "outputs": []
    },
    {
      "cell_type": "code",
      "metadata": {
        "id": "z-yY3uU7wX8C",
        "colab_type": "code",
        "colab": {}
      },
      "source": [
        "# functions to save data into dataframes\n",
        "\n",
        "def parse(path):\n",
        "  g = gzip.open(path, 'rb')\n",
        "  for l in g:\n",
        "    yield eval(l)\n",
        "\n",
        "def getDF(path):\n",
        "  i = 0\n",
        "  df = {}\n",
        "  for d in parse(path):\n",
        "    df[i] = d\n",
        "    i += 1\n",
        "  return pd.DataFrame.from_dict(df, orient='index')\n",
        "\n",
        "df = getDF(corpus_path)"
      ],
      "execution_count": 0,
      "outputs": []
    },
    {
      "cell_type": "code",
      "metadata": {
        "id": "Ryjws3QMDSmC",
        "colab_type": "code",
        "colab": {}
      },
      "source": [
        "df_dict = df.to_dict()"
      ],
      "execution_count": 0,
      "outputs": []
    },
    {
      "cell_type": "markdown",
      "metadata": {
        "id": "IVLLo268OSQC",
        "colab_type": "text"
      },
      "source": [
        "# Take a look at the dataset (quite nested) # "
      ]
    },
    {
      "cell_type": "code",
      "metadata": {
        "id": "q1vZeucqNHJJ",
        "colab_type": "code",
        "outputId": "8288c55e-eb40-49c1-aa77-773f7d2dc90e",
        "colab": {
          "base_uri": "https://localhost:8080/",
          "height": 35
        }
      },
      "source": [
        "len(df_dict['questions'].keys())"
      ],
      "execution_count": 11,
      "outputs": [
        {
          "output_type": "execute_result",
          "data": {
            "text/plain": [
              "38959"
            ]
          },
          "metadata": {
            "tags": []
          },
          "execution_count": 11
        }
      ]
    },
    {
      "cell_type": "code",
      "metadata": {
        "id": "ByeE63z4F1xy",
        "colab_type": "code",
        "outputId": "fbf947d8-c603-4f80-b0f0-08ded164989a",
        "colab": {
          "base_uri": "https://localhost:8080/",
          "height": 1000
        }
      },
      "source": [
        "df_dict['questions'][0]"
      ],
      "execution_count": 12,
      "outputs": [
        {
          "output_type": "execute_result",
          "data": {
            "text/plain": [
              "[{'answers': [{'answerScore': '0.9189',\n",
              "    'answerText': 'Very much. Both my 9&4yr old csn use it',\n",
              "    'answerTime': 'June 27, 2013',\n",
              "    'answerType': '?',\n",
              "    'answererID': 'A28W8V7C7O7JBQ',\n",
              "    'helpful': [2, 2]},\n",
              "   {'answerScore': '0.6162',\n",
              "    'answerText': 'I have the nook 1st edition and it is very user friendly but if you need tech support the people at Barnes and Noble are very knowledgable and heipful.',\n",
              "    'answerTime': 'June 27, 2013',\n",
              "    'answerType': '?',\n",
              "    'answererID': 'AD68GQI10OGMN',\n",
              "    'helpful': [1, 1]},\n",
              "   {'answerScore': '0.7004',\n",
              "    'answerText': \"It is pretty user friendly/ self explanatory. I've had mine for 2 years now. I enjoy it.\",\n",
              "    'answerTime': 'June 27, 2013',\n",
              "    'answerType': '?',\n",
              "    'answererID': 'ASSP19ONFPUCV',\n",
              "    'helpful': [1, 1]},\n",
              "   {'answerScore': '0.9930',\n",
              "    'answerText': \"Yes, it's pretty simply and standard functionality is easy to learn how to use.\",\n",
              "    'answerTime': 'June 27, 2013',\n",
              "    'answerType': 'Y',\n",
              "    'answererID': 'A3VMASE46T3AGS',\n",
              "    'helpful': [1, 1]},\n",
              "   {'answerScore': '0.6279',\n",
              "    'answerText': \"I like the nook. I'm a reading fanatic and I've found very little not to like about it. I find it user friendly and not a lot of hoops to jump through to use.\",\n",
              "    'answerTime': 'July 25, 2013',\n",
              "    'answerType': '?',\n",
              "    'answererID': 'A1CMNRK2DT00NK',\n",
              "    'helpful': [1, 1]},\n",
              "   {'answerScore': '0.6349',\n",
              "    'answerText': 'I bought it as a gift so I don\\'t know about the  \"friendliness.\"',\n",
              "    'answerTime': 'June 27, 2013',\n",
              "    'answerType': '?',\n",
              "    'answererID': 'A35EHT3XW238CS',\n",
              "    'helpful': [0, 0]}],\n",
              "  'askerID': 'A1KP1TT2M38V8P',\n",
              "  'questionText': 'is it user friendly',\n",
              "  'questionTime': 'June 27, 2013',\n",
              "  'questionType': 'yes/no'},\n",
              " {'answers': [{'answerText': 'Like others have said, you buy and download books with the wifi. But, you can read it off of it. By the way, there are newer versions of this ereader that are just as economical. Good luck with whatever you do.',\n",
              "    'answerTime': 'June 12, 2014',\n",
              "    'answererID': 'A28ZON2GCK6Y3X',\n",
              "    'helpful': [1, 1]},\n",
              "   {'answerText': 'You download your ebooks over wifi (or 3G if the network is available in your location).  If you wish to shop for ebooks using the Nook, you must use wifi/3G.  Once your purchase has downloaded, you do not need wifi/3G to read it.',\n",
              "    'answerTime': 'June 10, 2014',\n",
              "    'answererID': 'A2FK5TBDTX1WZL',\n",
              "    'helpful': [0, 0]},\n",
              "   {'answerText': \"You can only download books when  wifi is available, but once they're downloaded, you can read them without any wifi. :)\",\n",
              "    'answerTime': 'June 10, 2014',\n",
              "    'answererID': 'A343QC2O211PHA',\n",
              "    'helpful': [0, 0]}],\n",
              "  'askerID': 'A2MUWEIXLCSAPD',\n",
              "  'questionText': 'what does it mean by wifi? does that mean i can only read books when i have wifi or does that mean i can only download books when i have wifi?',\n",
              "  'questionTime': 'June 10, 2014',\n",
              "  'questionType': 'open-ended'},\n",
              " {'answers': [{'answerText': \"Do not buy this e-reader. It is very, very outdated. I have had many e-readers since I bought this one, and they all had longer battery life, better contrast, and a lighter weight. It was okay for it's time, but really, a modern ebook reader is very cheap. And so is a low-end tablet, which is the best device for internet and e-mails\",\n",
              "    'answerTime': 'March 9, 2015',\n",
              "    'answererID': 'A1BDZE0TP6L492',\n",
              "    'helpful': [0, 0]},\n",
              "   {'answerText': 'I have never used an ereader for those things. You might be better off with a tablet.',\n",
              "    'answerTime': 'March 10, 2015',\n",
              "    'answererID': 'A36V8NDDRZYRYO',\n",
              "    'helpful': [0, 0]}],\n",
              "  'askerID': 'A30RMKTRW92XGN',\n",
              "  'questionText': 'Can you navigate the internet? Can you send emails',\n",
              "  'questionTime': 'March 9, 2015',\n",
              "  'questionType': 'open-ended'},\n",
              " {'answers': [{'answerScore': '0.0601',\n",
              "    'answerText': 'No it is only a reader',\n",
              "    'answerTime': 'March 1, 2015',\n",
              "    'answerType': 'N',\n",
              "    'answererID': 'A3R965PSO3ETV',\n",
              "    'helpful': [0, 0]},\n",
              "   {'answerScore': '0.0086',\n",
              "    'answerText': \"No it's only a reader and the 3G is only connected  Barnes and Noble not to the Internet\",\n",
              "    'answerTime': 'March 1, 2015',\n",
              "    'answerType': 'N',\n",
              "    'answererID': 'A3DQFSMF4BSB0J',\n",
              "    'helpful': [0, 0]}],\n",
              "  'askerID': 'A1UAF5X5FP8DMT',\n",
              "  'questionText': 'can i play facebook games on it',\n",
              "  'questionTime': 'March 1, 2015',\n",
              "  'questionType': 'yes/no'},\n",
              " {'answers': [{'answerText': 'No',\n",
              "    'answerTime': 'November 30, 2014',\n",
              "    'answererID': 'AGMFNT1N7YIAL',\n",
              "    'helpful': [0, 0]},\n",
              "   {'answerText': 'No',\n",
              "    'answerTime': 'November 30, 2014',\n",
              "    'answererID': 'A3R965PSO3ETV',\n",
              "    'helpful': [0, 0]},\n",
              "   {'answerText': 'No',\n",
              "    'answerTime': 'December 1, 2014',\n",
              "    'answererID': 'A1XMP2GUIC2BRV',\n",
              "    'helpful': [0, 0]},\n",
              "   {'answerText': \"I can't say that I have tried.. but it seems others have said you can not\",\n",
              "    'answerTime': 'December 1, 2014',\n",
              "    'answererID': 'A2O4GG7MVOZ06Z',\n",
              "    'helpful': [0, 0]},\n",
              "   {'answerText': 'Yes',\n",
              "    'answerTime': 'December 6, 2014',\n",
              "    'answererID': 'A3DQFSMF4BSB0J',\n",
              "    'helpful': [0, 0]},\n",
              "   {'answerText': 'Reader is only connected to Barnes and Noble not connected to the Internet',\n",
              "    'answerTime': 'December 6, 2014',\n",
              "    'answererID': 'A3DQFSMF4BSB0J',\n",
              "    'helpful': [0, 0]}],\n",
              "  'askerID': 'A3MYGMGQE836RL',\n",
              "  'questionText': 'Can I download the kindle app?',\n",
              "  'questionTime': 'November 30, 2014',\n",
              "  'questionType': 'open-ended'},\n",
              " {'answers': [{'answerText': 'This happened to my sister in law. You let it get too low. You need to contact B&N.;',\n",
              "    'answerTime': 'October 15, 2014',\n",
              "    'answererID': 'A3I3NVURILSQDS',\n",
              "    'helpful': [0, 0]},\n",
              "   {'answerText': \"All I can say is good luck. I stopped using my Nook when I husband bought me a Kindle last year. I had had this particular Nook for a year and started having to charge it everyday even when I wasn't using it. I tried to charge it sometime after getting the Kindle just to transfer books off it and same problem. Wouldn't charge or turn on even when plugged in. If B & N does have a solution, please pass it along. I don't think I've thrown mine out yet.\",\n",
              "    'answerTime': 'October 16, 2014',\n",
              "    'answererID': 'A36V8NDDRZYRYO',\n",
              "    'helpful': [0, 0]}],\n",
              "  'askerID': 'A2JED5V6EQU7D9',\n",
              "  'questionText': 'My nook will not charge. When you plug it in the light turns on green, then immediately goes orange, then off. Help',\n",
              "  'questionTime': 'October 15, 2014',\n",
              "  'questionType': 'open-ended'},\n",
              " {'answers': [{'answerText': \"Dear Michelle,I finally got my Nook for Christmas. Not without some extra taxes I had to pay in the border, but anyway, finally here. I think that for reading novels in Catalan it's perfect really. The contrast of the screen depends much on the light you put in, but if the light is totally white, the constrast is very good!!! I'm pretty happy with the Nook, even if I cannot purchase directly any book because I don't have US billing address.The only little problem I found when reading for long time, is that because of the outside plastic it gets stuck on the hand and I have to change the position of reading every 15-20 minuts. I suppose once I get the cover I asked, I could handle in another way and the problem won't come back. One very bad experience!! I purchased the cover on Barnes&Noble; and because is going to Europe you cannot track it. The point is that after more than one month it has not arrived yet!! But the worse is that the 2 times I send a mail to B&N; they automatically resent me a mail forwarding me to the help system!!! I finally sent another e-mail to the company external of B&N; that produces the covers for them and I didn't get any answer yet!! So I finally purchased it on Amazon.By the way I also bought a Kindle and it's supposed to arrive in a couple days. I bought it for the textbooks for my studies.Give me some feedback!!!Take care.Xavi\\n\\n\\n\\n    Dear Michelle,I finally got my Nook for Christmas. Not without some extra taxes I had to pay in the border, but anyway, finally here. I think that for reading novels in Catalan it's perfect really. The contrast of the screen depends much on the light you put in, but if the light is totally white, the constrast is very good!!! I'm pretty happy with the Nook, even if I cannot purchase directly any book because I don't have US billing address.The only little problem I found when reading for long time, is that because of the outside plastic it gets stuck on the hand and...\\n      » \\nRead More\\n\\n\\n   Dear Michelle,I finally got my Nook for Christmas. Not without some extra taxes I had to pay in the border, but anyway, finally here. I think that for reading novels in Catalan it's perfect really. The contrast of the screen depends much on the light you put in, but if the light is totally white, the constrast is very good!!! I'm pretty happy with the Nook, even if I cannot purchase directly any book because I don't have US billing address.The only little problem I found when reading for long time, is that because of the outside plastic it gets stuck on the hand and I have to change the position of reading every 15-20 minuts. I suppose once I get the cover I asked, I could handle in another way and the problem won't come back. One very bad experience!! I purchased the cover on Barnes&Noble; and because is going to Europe you cannot track it. The point is that after more than one month it has not arrived yet!! But the worse is that the 2 times I send a mail to B&N; they automatically resent me a mail forwarding me to the help system!!! I finally sent another e-mail to the company external of B&N; that produces the covers for them and I didn't get any answer yet!! So I finally purchased it on Amazon.By the way I also bought a Kindle and it's supposed to arrive in a couple days. I bought it for the textbooks for my studies.Give me some feedback!!!Take care.Xavi\\n      « \\n\\nShow Less\",\n",
              "    'answerTime': 'January 18, 2011',\n",
              "    'answererID': 'A31M37BIJTEJE',\n",
              "    'helpful': [1, 1]},\n",
              "   {'answerText': \"Hi Michelle,I have been recently checking all features of all available eReaders and finally Nook was the one fulfilling my expectatives. My situation has been similar to yours yet that I'm living in Finland. In my case I would have like to have the possibility of shipment but there is no way using Amazon's or B&N;'s web pages. I purchased it in IPmart.com. It seemed to be a truthfully place. A little bit tricky because you have to register and so on, but I hope that within 8-16 days I will have my Nook at home. If you want, I can give you feedback about the shipping process if you are interested on using the same way. Let me know.Sinceresly.Xavi A.\\n\\n\\n\\n    Hi Michelle,I have been recently checking all features of all available eReaders and finally Nook was the one fulfilling my expectatives. My situation has been similar to yours yet that I'm living in Finland. In my case I would have like to have the possibility of shipment but there is no way using Amazon's or B&N;'s web pages. I purchased it in IPmart.com. It seemed to be a truthfully place. A little bit tricky because you have to register and so on, but I hope that within 8-16 days I will have my Nook at home. If you want, I can give you feedback about the shipping...\\n      » \\nRead More\\n\\n\\n   Hi Michelle,I have been recently checking all features of all available eReaders and finally Nook was the one fulfilling my expectatives. My situation has been similar to yours yet that I'm living in Finland. In my case I would have like to have the possibility of shipment but there is no way using Amazon's or B&N;'s web pages. I purchased it in IPmart.com. It seemed to be a truthfully place. A little bit tricky because you have to register and so on, but I hope that within 8-16 days I will have my Nook at home. If you want, I can give you feedback about the shipping process if you are interested on using the same way. Let me know.Sinceresly.Xavi A.\\n      « \\n\\nShow Less\",\n",
              "    'answerTime': 'December 8, 2010',\n",
              "    'answererID': 'A31M37BIJTEJE',\n",
              "    'helpful': [0, 0]},\n",
              "   {'answerText': \"Dear Xavi,Thank you for your reply. Since my last message I have purchased the Kindle 3 as I was concerned about the difficulty of buying and downloading books within the UK. I am so far very happy with the Kindle although I am very interested in what you think of the Nook. I have relatives in the US who are considering buying an e-reader and so I would love to know what your opinion is. If you get the chance to give me some feedback once you've used it that would be great!Thank you.Sincerely,Michelle\",\n",
              "    'answerTime': 'December 8, 2010',\n",
              "    'answererID': 'A1NOI0KX9P8ZDT',\n",
              "    'helpful': [0, 0]},\n",
              "   {'answerText': 'Dear Michelle,I think that in overall, Kindle provides better services in Europe (3G, buying online etc). Although the Nook has also these features, you are not allowed to use the online shopping services if you are not a US residence. Unfortunatelly Amazon\\'s store does not have books in my mother language (Catalan), so I\\'m \"forced\" to purchase the best e-reader using ePub format. Of course, when I got my Nook I\\'ll give you some feedback. Nice to discuss with you.Xavi',\n",
              "    'answerTime': 'December 9, 2010',\n",
              "    'answererID': 'A31M37BIJTEJE',\n",
              "    'helpful': [0, 0]},\n",
              "   {'answerText': \"One more comment, I realized that you can purchase the Nook in Amazon's webpage, you just need to indicate at some point that you are in a foreign country (outside of the US). So no need to purchase throught any other company if you preffer or trust more on Amazon's shopping and delivering services.\",\n",
              "    'answerTime': 'December 9, 2010',\n",
              "    'answererID': 'A31M37BIJTEJE',\n",
              "    'helpful': [0, 0]}],\n",
              "  'askerID': 'A1NOI0KX9P8ZDT',\n",
              "  'questionText': \"Nook in the UK? I've wanted an e-reader for a while and have been looking at the different options. I planned on getting the Kindle 3 until a family member recommended the Nook. I've had a look and it looks great! The only problem is that I live in the UK and have heard that it may not be compatible? Can someone please help? I really need some advice as would be very upset to purchase one in the US and find it doesn't work when I get home.\\n\\n\\n\\n    Nook in the UK? I've wanted an e-reader for a while and have been looking at the different options. I planned on getting the Kindle 3 until a family member recommended the Nook. I've had a...\\n      » \\nRead More\\n\\n\\n   Nook in the UK? I've wanted an e-reader for a while and have been looking at the different options. I planned on getting the Kindle 3 until a family member recommended the Nook. I've had a look and it looks great! The only problem is that I live in the UK and have heard that it may not be compatible? Can someone please help? I really need some advice as would be very upset to purchase one in the US and find it doesn't work when I get home.\\n      « \\n\\nShow Less\",\n",
              "  'questionTime': 'November 1, 2010',\n",
              "  'questionType': 'open-ended'}]"
            ]
          },
          "metadata": {
            "tags": []
          },
          "execution_count": 12
        }
      ]
    },
    {
      "cell_type": "code",
      "metadata": {
        "id": "Vo8nyX8GNrsA",
        "colab_type": "code",
        "outputId": "ead714c3-09bd-423d-c8bc-d41f2c7ce83e",
        "colab": {
          "base_uri": "https://localhost:8080/",
          "height": 35
        }
      },
      "source": [
        "len(df_dict['questions'][0])"
      ],
      "execution_count": 13,
      "outputs": [
        {
          "output_type": "execute_result",
          "data": {
            "text/plain": [
              "7"
            ]
          },
          "metadata": {
            "tags": []
          },
          "execution_count": 13
        }
      ]
    },
    {
      "cell_type": "code",
      "metadata": {
        "id": "E4zzK93yFX-7",
        "colab_type": "code",
        "outputId": "225671e7-7eb7-46dc-9206-e955a59a7ed0",
        "colab": {
          "base_uri": "https://localhost:8080/",
          "height": 35
        }
      },
      "source": [
        "type(df_dict['questions'][0])"
      ],
      "execution_count": 14,
      "outputs": [
        {
          "output_type": "execute_result",
          "data": {
            "text/plain": [
              "list"
            ]
          },
          "metadata": {
            "tags": []
          },
          "execution_count": 14
        }
      ]
    },
    {
      "cell_type": "code",
      "metadata": {
        "id": "NW4NzFTTGg-V",
        "colab_type": "code",
        "outputId": "477b05f4-446d-45db-cafa-036eeb921237",
        "colab": {
          "base_uri": "https://localhost:8080/",
          "height": 35
        }
      },
      "source": [
        "type(df_dict['questions'][0][0])"
      ],
      "execution_count": 15,
      "outputs": [
        {
          "output_type": "execute_result",
          "data": {
            "text/plain": [
              "dict"
            ]
          },
          "metadata": {
            "tags": []
          },
          "execution_count": 15
        }
      ]
    },
    {
      "cell_type": "code",
      "metadata": {
        "id": "2PZfuiq2G04V",
        "colab_type": "code",
        "outputId": "bf77ce95-064d-4a56-a641-4a667f28ccca",
        "colab": {
          "base_uri": "https://localhost:8080/",
          "height": 765
        }
      },
      "source": [
        "df_dict['questions'][0][0]"
      ],
      "execution_count": 16,
      "outputs": [
        {
          "output_type": "execute_result",
          "data": {
            "text/plain": [
              "{'answers': [{'answerScore': '0.9189',\n",
              "   'answerText': 'Very much. Both my 9&4yr old csn use it',\n",
              "   'answerTime': 'June 27, 2013',\n",
              "   'answerType': '?',\n",
              "   'answererID': 'A28W8V7C7O7JBQ',\n",
              "   'helpful': [2, 2]},\n",
              "  {'answerScore': '0.6162',\n",
              "   'answerText': 'I have the nook 1st edition and it is very user friendly but if you need tech support the people at Barnes and Noble are very knowledgable and heipful.',\n",
              "   'answerTime': 'June 27, 2013',\n",
              "   'answerType': '?',\n",
              "   'answererID': 'AD68GQI10OGMN',\n",
              "   'helpful': [1, 1]},\n",
              "  {'answerScore': '0.7004',\n",
              "   'answerText': \"It is pretty user friendly/ self explanatory. I've had mine for 2 years now. I enjoy it.\",\n",
              "   'answerTime': 'June 27, 2013',\n",
              "   'answerType': '?',\n",
              "   'answererID': 'ASSP19ONFPUCV',\n",
              "   'helpful': [1, 1]},\n",
              "  {'answerScore': '0.9930',\n",
              "   'answerText': \"Yes, it's pretty simply and standard functionality is easy to learn how to use.\",\n",
              "   'answerTime': 'June 27, 2013',\n",
              "   'answerType': 'Y',\n",
              "   'answererID': 'A3VMASE46T3AGS',\n",
              "   'helpful': [1, 1]},\n",
              "  {'answerScore': '0.6279',\n",
              "   'answerText': \"I like the nook. I'm a reading fanatic and I've found very little not to like about it. I find it user friendly and not a lot of hoops to jump through to use.\",\n",
              "   'answerTime': 'July 25, 2013',\n",
              "   'answerType': '?',\n",
              "   'answererID': 'A1CMNRK2DT00NK',\n",
              "   'helpful': [1, 1]},\n",
              "  {'answerScore': '0.6349',\n",
              "   'answerText': 'I bought it as a gift so I don\\'t know about the  \"friendliness.\"',\n",
              "   'answerTime': 'June 27, 2013',\n",
              "   'answerType': '?',\n",
              "   'answererID': 'A35EHT3XW238CS',\n",
              "   'helpful': [0, 0]}],\n",
              " 'askerID': 'A1KP1TT2M38V8P',\n",
              " 'questionText': 'is it user friendly',\n",
              " 'questionTime': 'June 27, 2013',\n",
              " 'questionType': 'yes/no'}"
            ]
          },
          "metadata": {
            "tags": []
          },
          "execution_count": 16
        }
      ]
    },
    {
      "cell_type": "code",
      "metadata": {
        "id": "pEfdzC-RHBcD",
        "colab_type": "code",
        "outputId": "3913efdc-cc50-4d51-ec51-e71be763c8e8",
        "colab": {
          "base_uri": "https://localhost:8080/",
          "height": 35
        }
      },
      "source": [
        "df_dict['questions'][0][0].keys()"
      ],
      "execution_count": 18,
      "outputs": [
        {
          "output_type": "execute_result",
          "data": {
            "text/plain": [
              "dict_keys(['questionType', 'askerID', 'questionTime', 'questionText', 'answers'])"
            ]
          },
          "metadata": {
            "tags": []
          },
          "execution_count": 18
        }
      ]
    },
    {
      "cell_type": "code",
      "metadata": {
        "id": "R-r3APzuHKfb",
        "colab_type": "code",
        "outputId": "18de30be-f271-4ae3-ef65-1f170d6d0ba0",
        "colab": {
          "base_uri": "https://localhost:8080/",
          "height": 35
        }
      },
      "source": [
        "df_dict['questions'][0][0]['questionText']"
      ],
      "execution_count": 19,
      "outputs": [
        {
          "output_type": "execute_result",
          "data": {
            "text/plain": [
              "'is it user friendly'"
            ]
          },
          "metadata": {
            "tags": []
          },
          "execution_count": 19
        }
      ]
    },
    {
      "cell_type": "markdown",
      "metadata": {
        "id": "BbkftDJCOLZC",
        "colab_type": "text"
      },
      "source": [
        "# Preprocessing #"
      ]
    },
    {
      "cell_type": "code",
      "metadata": {
        "id": "mh2wUQtMMOba",
        "colab_type": "code",
        "colab": {}
      },
      "source": [
        "qa_data = df_dict['questions']"
      ],
      "execution_count": 0,
      "outputs": []
    },
    {
      "cell_type": "code",
      "metadata": {
        "id": "xMUdHaBEmXHR",
        "colab_type": "code",
        "colab": {
          "base_uri": "https://localhost:8080/",
          "height": 1000
        },
        "outputId": "e2defaa9-b721-488e-aa97-1290f70e4be5"
      },
      "source": [
        "qa_data[0]"
      ],
      "execution_count": 42,
      "outputs": [
        {
          "output_type": "execute_result",
          "data": {
            "text/plain": [
              "[{'answers': [{'answerScore': '0.9189',\n",
              "    'answerText': 'Very much. Both my 9&4yr old csn use it',\n",
              "    'answerTime': 'June 27, 2013',\n",
              "    'answerType': '?',\n",
              "    'answererID': 'A28W8V7C7O7JBQ',\n",
              "    'helpful': [2, 2]},\n",
              "   {'answerScore': '0.6162',\n",
              "    'answerText': 'I have the nook 1st edition and it is very user friendly but if you need tech support the people at Barnes and Noble are very knowledgable and heipful.',\n",
              "    'answerTime': 'June 27, 2013',\n",
              "    'answerType': '?',\n",
              "    'answererID': 'AD68GQI10OGMN',\n",
              "    'helpful': [1, 1]},\n",
              "   {'answerScore': '0.7004',\n",
              "    'answerText': \"It is pretty user friendly/ self explanatory. I've had mine for 2 years now. I enjoy it.\",\n",
              "    'answerTime': 'June 27, 2013',\n",
              "    'answerType': '?',\n",
              "    'answererID': 'ASSP19ONFPUCV',\n",
              "    'helpful': [1, 1]},\n",
              "   {'answerScore': '0.9930',\n",
              "    'answerText': \"Yes, it's pretty simply and standard functionality is easy to learn how to use.\",\n",
              "    'answerTime': 'June 27, 2013',\n",
              "    'answerType': 'Y',\n",
              "    'answererID': 'A3VMASE46T3AGS',\n",
              "    'helpful': [1, 1]},\n",
              "   {'answerScore': '0.6279',\n",
              "    'answerText': \"I like the nook. I'm a reading fanatic and I've found very little not to like about it. I find it user friendly and not a lot of hoops to jump through to use.\",\n",
              "    'answerTime': 'July 25, 2013',\n",
              "    'answerType': '?',\n",
              "    'answererID': 'A1CMNRK2DT00NK',\n",
              "    'helpful': [1, 1]},\n",
              "   {'answerScore': '0.6349',\n",
              "    'answerText': 'I bought it as a gift so I don\\'t know about the  \"friendliness.\"',\n",
              "    'answerTime': 'June 27, 2013',\n",
              "    'answerType': '?',\n",
              "    'answererID': 'A35EHT3XW238CS',\n",
              "    'helpful': [0, 0]}],\n",
              "  'askerID': 'A1KP1TT2M38V8P',\n",
              "  'questionText': 'is it user friendly',\n",
              "  'questionTime': 'June 27, 2013',\n",
              "  'questionType': 'yes/no'},\n",
              " {'answers': [{'answerText': 'Like others have said, you buy and download books with the wifi. But, you can read it off of it. By the way, there are newer versions of this ereader that are just as economical. Good luck with whatever you do.',\n",
              "    'answerTime': 'June 12, 2014',\n",
              "    'answererID': 'A28ZON2GCK6Y3X',\n",
              "    'helpful': [1, 1]},\n",
              "   {'answerText': 'You download your ebooks over wifi (or 3G if the network is available in your location).  If you wish to shop for ebooks using the Nook, you must use wifi/3G.  Once your purchase has downloaded, you do not need wifi/3G to read it.',\n",
              "    'answerTime': 'June 10, 2014',\n",
              "    'answererID': 'A2FK5TBDTX1WZL',\n",
              "    'helpful': [0, 0]},\n",
              "   {'answerText': \"You can only download books when  wifi is available, but once they're downloaded, you can read them without any wifi. :)\",\n",
              "    'answerTime': 'June 10, 2014',\n",
              "    'answererID': 'A343QC2O211PHA',\n",
              "    'helpful': [0, 0]}],\n",
              "  'askerID': 'A2MUWEIXLCSAPD',\n",
              "  'questionText': 'what does it mean by wifi? does that mean i can only read books when i have wifi or does that mean i can only download books when i have wifi?',\n",
              "  'questionTime': 'June 10, 2014',\n",
              "  'questionType': 'open-ended'},\n",
              " {'answers': [{'answerText': \"Do not buy this e-reader. It is very, very outdated. I have had many e-readers since I bought this one, and they all had longer battery life, better contrast, and a lighter weight. It was okay for it's time, but really, a modern ebook reader is very cheap. And so is a low-end tablet, which is the best device for internet and e-mails\",\n",
              "    'answerTime': 'March 9, 2015',\n",
              "    'answererID': 'A1BDZE0TP6L492',\n",
              "    'helpful': [0, 0]},\n",
              "   {'answerText': 'I have never used an ereader for those things. You might be better off with a tablet.',\n",
              "    'answerTime': 'March 10, 2015',\n",
              "    'answererID': 'A36V8NDDRZYRYO',\n",
              "    'helpful': [0, 0]}],\n",
              "  'askerID': 'A30RMKTRW92XGN',\n",
              "  'questionText': 'Can you navigate the internet? Can you send emails',\n",
              "  'questionTime': 'March 9, 2015',\n",
              "  'questionType': 'open-ended'},\n",
              " {'answers': [{'answerScore': '0.0601',\n",
              "    'answerText': 'No it is only a reader',\n",
              "    'answerTime': 'March 1, 2015',\n",
              "    'answerType': 'N',\n",
              "    'answererID': 'A3R965PSO3ETV',\n",
              "    'helpful': [0, 0]},\n",
              "   {'answerScore': '0.0086',\n",
              "    'answerText': \"No it's only a reader and the 3G is only connected  Barnes and Noble not to the Internet\",\n",
              "    'answerTime': 'March 1, 2015',\n",
              "    'answerType': 'N',\n",
              "    'answererID': 'A3DQFSMF4BSB0J',\n",
              "    'helpful': [0, 0]}],\n",
              "  'askerID': 'A1UAF5X5FP8DMT',\n",
              "  'questionText': 'can i play facebook games on it',\n",
              "  'questionTime': 'March 1, 2015',\n",
              "  'questionType': 'yes/no'},\n",
              " {'answers': [{'answerText': 'No',\n",
              "    'answerTime': 'November 30, 2014',\n",
              "    'answererID': 'AGMFNT1N7YIAL',\n",
              "    'helpful': [0, 0]},\n",
              "   {'answerText': 'No',\n",
              "    'answerTime': 'November 30, 2014',\n",
              "    'answererID': 'A3R965PSO3ETV',\n",
              "    'helpful': [0, 0]},\n",
              "   {'answerText': 'No',\n",
              "    'answerTime': 'December 1, 2014',\n",
              "    'answererID': 'A1XMP2GUIC2BRV',\n",
              "    'helpful': [0, 0]},\n",
              "   {'answerText': \"I can't say that I have tried.. but it seems others have said you can not\",\n",
              "    'answerTime': 'December 1, 2014',\n",
              "    'answererID': 'A2O4GG7MVOZ06Z',\n",
              "    'helpful': [0, 0]},\n",
              "   {'answerText': 'Yes',\n",
              "    'answerTime': 'December 6, 2014',\n",
              "    'answererID': 'A3DQFSMF4BSB0J',\n",
              "    'helpful': [0, 0]},\n",
              "   {'answerText': 'Reader is only connected to Barnes and Noble not connected to the Internet',\n",
              "    'answerTime': 'December 6, 2014',\n",
              "    'answererID': 'A3DQFSMF4BSB0J',\n",
              "    'helpful': [0, 0]}],\n",
              "  'askerID': 'A3MYGMGQE836RL',\n",
              "  'questionText': 'Can I download the kindle app?',\n",
              "  'questionTime': 'November 30, 2014',\n",
              "  'questionType': 'open-ended'},\n",
              " {'answers': [{'answerText': 'This happened to my sister in law. You let it get too low. You need to contact B&N.;',\n",
              "    'answerTime': 'October 15, 2014',\n",
              "    'answererID': 'A3I3NVURILSQDS',\n",
              "    'helpful': [0, 0]},\n",
              "   {'answerText': \"All I can say is good luck. I stopped using my Nook when I husband bought me a Kindle last year. I had had this particular Nook for a year and started having to charge it everyday even when I wasn't using it. I tried to charge it sometime after getting the Kindle just to transfer books off it and same problem. Wouldn't charge or turn on even when plugged in. If B & N does have a solution, please pass it along. I don't think I've thrown mine out yet.\",\n",
              "    'answerTime': 'October 16, 2014',\n",
              "    'answererID': 'A36V8NDDRZYRYO',\n",
              "    'helpful': [0, 0]}],\n",
              "  'askerID': 'A2JED5V6EQU7D9',\n",
              "  'questionText': 'My nook will not charge. When you plug it in the light turns on green, then immediately goes orange, then off. Help',\n",
              "  'questionTime': 'October 15, 2014',\n",
              "  'questionType': 'open-ended'},\n",
              " {'answers': [{'answerText': \"Dear Michelle,I finally got my Nook for Christmas. Not without some extra taxes I had to pay in the border, but anyway, finally here. I think that for reading novels in Catalan it's perfect really. The contrast of the screen depends much on the light you put in, but if the light is totally white, the constrast is very good!!! I'm pretty happy with the Nook, even if I cannot purchase directly any book because I don't have US billing address.The only little problem I found when reading for long time, is that because of the outside plastic it gets stuck on the hand and I have to change the position of reading every 15-20 minuts. I suppose once I get the cover I asked, I could handle in another way and the problem won't come back. One very bad experience!! I purchased the cover on Barnes&Noble; and because is going to Europe you cannot track it. The point is that after more than one month it has not arrived yet!! But the worse is that the 2 times I send a mail to B&N; they automatically resent me a mail forwarding me to the help system!!! I finally sent another e-mail to the company external of B&N; that produces the covers for them and I didn't get any answer yet!! So I finally purchased it on Amazon.By the way I also bought a Kindle and it's supposed to arrive in a couple days. I bought it for the textbooks for my studies.Give me some feedback!!!Take care.Xavi\\n\\n\\n\\n    Dear Michelle,I finally got my Nook for Christmas. Not without some extra taxes I had to pay in the border, but anyway, finally here. I think that for reading novels in Catalan it's perfect really. The contrast of the screen depends much on the light you put in, but if the light is totally white, the constrast is very good!!! I'm pretty happy with the Nook, even if I cannot purchase directly any book because I don't have US billing address.The only little problem I found when reading for long time, is that because of the outside plastic it gets stuck on the hand and...\\n      » \\nRead More\\n\\n\\n   Dear Michelle,I finally got my Nook for Christmas. Not without some extra taxes I had to pay in the border, but anyway, finally here. I think that for reading novels in Catalan it's perfect really. The contrast of the screen depends much on the light you put in, but if the light is totally white, the constrast is very good!!! I'm pretty happy with the Nook, even if I cannot purchase directly any book because I don't have US billing address.The only little problem I found when reading for long time, is that because of the outside plastic it gets stuck on the hand and I have to change the position of reading every 15-20 minuts. I suppose once I get the cover I asked, I could handle in another way and the problem won't come back. One very bad experience!! I purchased the cover on Barnes&Noble; and because is going to Europe you cannot track it. The point is that after more than one month it has not arrived yet!! But the worse is that the 2 times I send a mail to B&N; they automatically resent me a mail forwarding me to the help system!!! I finally sent another e-mail to the company external of B&N; that produces the covers for them and I didn't get any answer yet!! So I finally purchased it on Amazon.By the way I also bought a Kindle and it's supposed to arrive in a couple days. I bought it for the textbooks for my studies.Give me some feedback!!!Take care.Xavi\\n      « \\n\\nShow Less\",\n",
              "    'answerTime': 'January 18, 2011',\n",
              "    'answererID': 'A31M37BIJTEJE',\n",
              "    'helpful': [1, 1]},\n",
              "   {'answerText': \"Hi Michelle,I have been recently checking all features of all available eReaders and finally Nook was the one fulfilling my expectatives. My situation has been similar to yours yet that I'm living in Finland. In my case I would have like to have the possibility of shipment but there is no way using Amazon's or B&N;'s web pages. I purchased it in IPmart.com. It seemed to be a truthfully place. A little bit tricky because you have to register and so on, but I hope that within 8-16 days I will have my Nook at home. If you want, I can give you feedback about the shipping process if you are interested on using the same way. Let me know.Sinceresly.Xavi A.\\n\\n\\n\\n    Hi Michelle,I have been recently checking all features of all available eReaders and finally Nook was the one fulfilling my expectatives. My situation has been similar to yours yet that I'm living in Finland. In my case I would have like to have the possibility of shipment but there is no way using Amazon's or B&N;'s web pages. I purchased it in IPmart.com. It seemed to be a truthfully place. A little bit tricky because you have to register and so on, but I hope that within 8-16 days I will have my Nook at home. If you want, I can give you feedback about the shipping...\\n      » \\nRead More\\n\\n\\n   Hi Michelle,I have been recently checking all features of all available eReaders and finally Nook was the one fulfilling my expectatives. My situation has been similar to yours yet that I'm living in Finland. In my case I would have like to have the possibility of shipment but there is no way using Amazon's or B&N;'s web pages. I purchased it in IPmart.com. It seemed to be a truthfully place. A little bit tricky because you have to register and so on, but I hope that within 8-16 days I will have my Nook at home. If you want, I can give you feedback about the shipping process if you are interested on using the same way. Let me know.Sinceresly.Xavi A.\\n      « \\n\\nShow Less\",\n",
              "    'answerTime': 'December 8, 2010',\n",
              "    'answererID': 'A31M37BIJTEJE',\n",
              "    'helpful': [0, 0]},\n",
              "   {'answerText': \"Dear Xavi,Thank you for your reply. Since my last message I have purchased the Kindle 3 as I was concerned about the difficulty of buying and downloading books within the UK. I am so far very happy with the Kindle although I am very interested in what you think of the Nook. I have relatives in the US who are considering buying an e-reader and so I would love to know what your opinion is. If you get the chance to give me some feedback once you've used it that would be great!Thank you.Sincerely,Michelle\",\n",
              "    'answerTime': 'December 8, 2010',\n",
              "    'answererID': 'A1NOI0KX9P8ZDT',\n",
              "    'helpful': [0, 0]},\n",
              "   {'answerText': 'Dear Michelle,I think that in overall, Kindle provides better services in Europe (3G, buying online etc). Although the Nook has also these features, you are not allowed to use the online shopping services if you are not a US residence. Unfortunatelly Amazon\\'s store does not have books in my mother language (Catalan), so I\\'m \"forced\" to purchase the best e-reader using ePub format. Of course, when I got my Nook I\\'ll give you some feedback. Nice to discuss with you.Xavi',\n",
              "    'answerTime': 'December 9, 2010',\n",
              "    'answererID': 'A31M37BIJTEJE',\n",
              "    'helpful': [0, 0]},\n",
              "   {'answerText': \"One more comment, I realized that you can purchase the Nook in Amazon's webpage, you just need to indicate at some point that you are in a foreign country (outside of the US). So no need to purchase throught any other company if you preffer or trust more on Amazon's shopping and delivering services.\",\n",
              "    'answerTime': 'December 9, 2010',\n",
              "    'answererID': 'A31M37BIJTEJE',\n",
              "    'helpful': [0, 0]}],\n",
              "  'askerID': 'A1NOI0KX9P8ZDT',\n",
              "  'questionText': \"Nook in the UK? I've wanted an e-reader for a while and have been looking at the different options. I planned on getting the Kindle 3 until a family member recommended the Nook. I've had a look and it looks great! The only problem is that I live in the UK and have heard that it may not be compatible? Can someone please help? I really need some advice as would be very upset to purchase one in the US and find it doesn't work when I get home.\\n\\n\\n\\n    Nook in the UK? I've wanted an e-reader for a while and have been looking at the different options. I planned on getting the Kindle 3 until a family member recommended the Nook. I've had a...\\n      » \\nRead More\\n\\n\\n   Nook in the UK? I've wanted an e-reader for a while and have been looking at the different options. I planned on getting the Kindle 3 until a family member recommended the Nook. I've had a look and it looks great! The only problem is that I live in the UK and have heard that it may not be compatible? Can someone please help? I really need some advice as would be very upset to purchase one in the US and find it doesn't work when I get home.\\n      « \\n\\nShow Less\",\n",
              "  'questionTime': 'November 1, 2010',\n",
              "  'questionType': 'open-ended'}]"
            ]
          },
          "metadata": {
            "tags": []
          },
          "execution_count": 42
        }
      ]
    },
    {
      "cell_type": "code",
      "metadata": {
        "id": "XZD5UYc-MesZ",
        "colab_type": "code",
        "outputId": "1f41296e-e0e5-41e1-b8c1-edafa4bb548d",
        "colab": {
          "base_uri": "https://localhost:8080/",
          "height": 1000
        }
      },
      "source": [
        "pairs = []\n",
        "\n",
        "for item in qa_data.values():\n",
        "  \n",
        "  for question in item:\n",
        "    question_text = question['questionText']\n",
        "    max_answer_score = 0\n",
        "\n",
        "    for answer in question['answers']:\n",
        "      try: \n",
        "        current_answer_score = float(answer['answerScore'])\n",
        "\n",
        "        if current_answer_score > max_answer_score:\n",
        "          answer_text = answer['answerText']\n",
        "          max_answer_score = current_answer_score\n",
        "\n",
        "      except KeyError:\n",
        "          print(\"No answerScore key for this answer available\")\n",
        "\n",
        "    \n",
        "    #print(f\"Question: {question_text} \\t Answer: {answer_text}\")\n",
        "    pairs.append(f\"{question_text}\\t{answer_text}\")\n",
        "    "
      ],
      "execution_count": 0,
      "outputs": []
    }
  ]
}